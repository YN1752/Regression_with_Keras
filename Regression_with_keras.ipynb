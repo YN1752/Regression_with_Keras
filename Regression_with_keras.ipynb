{
 "cells": [
  {
   "cell_type": "markdown",
   "id": "e3f53851",
   "metadata": {},
   "source": [
    "# <center>Regression with Keras</center>\n",
    "<center><img src=\"https://3.bp.blogspot.com/-QZVBl08fmPk/XhO909Ha1dI/AAAAAAAACZI/q1a1UykGKe0KDUZ_ZITtWmM7bBJFRrvPQCLcBGAsYHQ/s1600/tensorflowkeras.jpg\" /></center>"
   ]
  },
  {
   "cell_type": "markdown",
   "id": "82b5b020",
   "metadata": {},
   "source": [
    "## Importing Libraries"
   ]
  },
  {
   "cell_type": "code",
   "execution_count": 1,
   "id": "9abc8932",
   "metadata": {},
   "outputs": [],
   "source": [
    "import pandas as pd\n",
    "from tqdm import tqdm\n",
    "from tensorflow.keras.models import Sequential\n",
    "from tensorflow.keras.layers import Dense\n",
    "from sklearn.model_selection import train_test_split\n",
    "from sklearn.metrics import mean_squared_error\n",
    "from statistics import mean, stdev"
   ]
  },
  {
   "cell_type": "markdown",
   "id": "d152b910",
   "metadata": {},
   "source": [
    "## Reading Dataset"
   ]
  },
  {
   "cell_type": "code",
   "execution_count": 2,
   "id": "ad798dad",
   "metadata": {},
   "outputs": [
    {
     "data": {
      "text/html": [
       "<div>\n",
       "<style scoped>\n",
       "    .dataframe tbody tr th:only-of-type {\n",
       "        vertical-align: middle;\n",
       "    }\n",
       "\n",
       "    .dataframe tbody tr th {\n",
       "        vertical-align: top;\n",
       "    }\n",
       "\n",
       "    .dataframe thead th {\n",
       "        text-align: right;\n",
       "    }\n",
       "</style>\n",
       "<table border=\"1\" class=\"dataframe\">\n",
       "  <thead>\n",
       "    <tr style=\"text-align: right;\">\n",
       "      <th></th>\n",
       "      <th>Cement</th>\n",
       "      <th>Blast Furnace Slag</th>\n",
       "      <th>Fly Ash</th>\n",
       "      <th>Water</th>\n",
       "      <th>Superplasticizer</th>\n",
       "      <th>Coarse Aggregate</th>\n",
       "      <th>Fine Aggregate</th>\n",
       "      <th>Age</th>\n",
       "      <th>Strength</th>\n",
       "    </tr>\n",
       "  </thead>\n",
       "  <tbody>\n",
       "    <tr>\n",
       "      <th>0</th>\n",
       "      <td>540.0</td>\n",
       "      <td>0.0</td>\n",
       "      <td>0.0</td>\n",
       "      <td>162.0</td>\n",
       "      <td>2.5</td>\n",
       "      <td>1040.0</td>\n",
       "      <td>676.0</td>\n",
       "      <td>28</td>\n",
       "      <td>79.99</td>\n",
       "    </tr>\n",
       "    <tr>\n",
       "      <th>1</th>\n",
       "      <td>540.0</td>\n",
       "      <td>0.0</td>\n",
       "      <td>0.0</td>\n",
       "      <td>162.0</td>\n",
       "      <td>2.5</td>\n",
       "      <td>1055.0</td>\n",
       "      <td>676.0</td>\n",
       "      <td>28</td>\n",
       "      <td>61.89</td>\n",
       "    </tr>\n",
       "    <tr>\n",
       "      <th>2</th>\n",
       "      <td>332.5</td>\n",
       "      <td>142.5</td>\n",
       "      <td>0.0</td>\n",
       "      <td>228.0</td>\n",
       "      <td>0.0</td>\n",
       "      <td>932.0</td>\n",
       "      <td>594.0</td>\n",
       "      <td>270</td>\n",
       "      <td>40.27</td>\n",
       "    </tr>\n",
       "    <tr>\n",
       "      <th>3</th>\n",
       "      <td>332.5</td>\n",
       "      <td>142.5</td>\n",
       "      <td>0.0</td>\n",
       "      <td>228.0</td>\n",
       "      <td>0.0</td>\n",
       "      <td>932.0</td>\n",
       "      <td>594.0</td>\n",
       "      <td>365</td>\n",
       "      <td>41.05</td>\n",
       "    </tr>\n",
       "    <tr>\n",
       "      <th>4</th>\n",
       "      <td>198.6</td>\n",
       "      <td>132.4</td>\n",
       "      <td>0.0</td>\n",
       "      <td>192.0</td>\n",
       "      <td>0.0</td>\n",
       "      <td>978.4</td>\n",
       "      <td>825.5</td>\n",
       "      <td>360</td>\n",
       "      <td>44.30</td>\n",
       "    </tr>\n",
       "  </tbody>\n",
       "</table>\n",
       "</div>"
      ],
      "text/plain": [
       "   Cement  Blast Furnace Slag  Fly Ash  Water  Superplasticizer  \\\n",
       "0   540.0                 0.0      0.0  162.0               2.5   \n",
       "1   540.0                 0.0      0.0  162.0               2.5   \n",
       "2   332.5               142.5      0.0  228.0               0.0   \n",
       "3   332.5               142.5      0.0  228.0               0.0   \n",
       "4   198.6               132.4      0.0  192.0               0.0   \n",
       "\n",
       "   Coarse Aggregate  Fine Aggregate  Age  Strength  \n",
       "0            1040.0           676.0   28     79.99  \n",
       "1            1055.0           676.0   28     61.89  \n",
       "2             932.0           594.0  270     40.27  \n",
       "3             932.0           594.0  365     41.05  \n",
       "4             978.4           825.5  360     44.30  "
      ]
     },
     "execution_count": 2,
     "metadata": {},
     "output_type": "execute_result"
    }
   ],
   "source": [
    "conc_df = pd.read_csv(r\"https://cocl.us/concrete_data\")\n",
    "conc_df.head()"
   ]
  },
  {
   "cell_type": "markdown",
   "id": "4db773c9",
   "metadata": {},
   "source": [
    "## Description of Dataset"
   ]
  },
  {
   "cell_type": "code",
   "execution_count": 3,
   "id": "292d505b",
   "metadata": {},
   "outputs": [
    {
     "data": {
      "text/html": [
       "<div>\n",
       "<style scoped>\n",
       "    .dataframe tbody tr th:only-of-type {\n",
       "        vertical-align: middle;\n",
       "    }\n",
       "\n",
       "    .dataframe tbody tr th {\n",
       "        vertical-align: top;\n",
       "    }\n",
       "\n",
       "    .dataframe thead th {\n",
       "        text-align: right;\n",
       "    }\n",
       "</style>\n",
       "<table border=\"1\" class=\"dataframe\">\n",
       "  <thead>\n",
       "    <tr style=\"text-align: right;\">\n",
       "      <th></th>\n",
       "      <th>Cement</th>\n",
       "      <th>Blast Furnace Slag</th>\n",
       "      <th>Fly Ash</th>\n",
       "      <th>Water</th>\n",
       "      <th>Superplasticizer</th>\n",
       "      <th>Coarse Aggregate</th>\n",
       "      <th>Fine Aggregate</th>\n",
       "      <th>Age</th>\n",
       "      <th>Strength</th>\n",
       "    </tr>\n",
       "  </thead>\n",
       "  <tbody>\n",
       "    <tr>\n",
       "      <th>count</th>\n",
       "      <td>1030.000000</td>\n",
       "      <td>1030.000000</td>\n",
       "      <td>1030.000000</td>\n",
       "      <td>1030.000000</td>\n",
       "      <td>1030.000000</td>\n",
       "      <td>1030.000000</td>\n",
       "      <td>1030.000000</td>\n",
       "      <td>1030.000000</td>\n",
       "      <td>1030.000000</td>\n",
       "    </tr>\n",
       "    <tr>\n",
       "      <th>mean</th>\n",
       "      <td>281.167864</td>\n",
       "      <td>73.895825</td>\n",
       "      <td>54.188350</td>\n",
       "      <td>181.567282</td>\n",
       "      <td>6.204660</td>\n",
       "      <td>972.918932</td>\n",
       "      <td>773.580485</td>\n",
       "      <td>45.662136</td>\n",
       "      <td>35.817961</td>\n",
       "    </tr>\n",
       "    <tr>\n",
       "      <th>std</th>\n",
       "      <td>104.506364</td>\n",
       "      <td>86.279342</td>\n",
       "      <td>63.997004</td>\n",
       "      <td>21.354219</td>\n",
       "      <td>5.973841</td>\n",
       "      <td>77.753954</td>\n",
       "      <td>80.175980</td>\n",
       "      <td>63.169912</td>\n",
       "      <td>16.705742</td>\n",
       "    </tr>\n",
       "    <tr>\n",
       "      <th>min</th>\n",
       "      <td>102.000000</td>\n",
       "      <td>0.000000</td>\n",
       "      <td>0.000000</td>\n",
       "      <td>121.800000</td>\n",
       "      <td>0.000000</td>\n",
       "      <td>801.000000</td>\n",
       "      <td>594.000000</td>\n",
       "      <td>1.000000</td>\n",
       "      <td>2.330000</td>\n",
       "    </tr>\n",
       "    <tr>\n",
       "      <th>25%</th>\n",
       "      <td>192.375000</td>\n",
       "      <td>0.000000</td>\n",
       "      <td>0.000000</td>\n",
       "      <td>164.900000</td>\n",
       "      <td>0.000000</td>\n",
       "      <td>932.000000</td>\n",
       "      <td>730.950000</td>\n",
       "      <td>7.000000</td>\n",
       "      <td>23.710000</td>\n",
       "    </tr>\n",
       "    <tr>\n",
       "      <th>50%</th>\n",
       "      <td>272.900000</td>\n",
       "      <td>22.000000</td>\n",
       "      <td>0.000000</td>\n",
       "      <td>185.000000</td>\n",
       "      <td>6.400000</td>\n",
       "      <td>968.000000</td>\n",
       "      <td>779.500000</td>\n",
       "      <td>28.000000</td>\n",
       "      <td>34.445000</td>\n",
       "    </tr>\n",
       "    <tr>\n",
       "      <th>75%</th>\n",
       "      <td>350.000000</td>\n",
       "      <td>142.950000</td>\n",
       "      <td>118.300000</td>\n",
       "      <td>192.000000</td>\n",
       "      <td>10.200000</td>\n",
       "      <td>1029.400000</td>\n",
       "      <td>824.000000</td>\n",
       "      <td>56.000000</td>\n",
       "      <td>46.135000</td>\n",
       "    </tr>\n",
       "    <tr>\n",
       "      <th>max</th>\n",
       "      <td>540.000000</td>\n",
       "      <td>359.400000</td>\n",
       "      <td>200.100000</td>\n",
       "      <td>247.000000</td>\n",
       "      <td>32.200000</td>\n",
       "      <td>1145.000000</td>\n",
       "      <td>992.600000</td>\n",
       "      <td>365.000000</td>\n",
       "      <td>82.600000</td>\n",
       "    </tr>\n",
       "  </tbody>\n",
       "</table>\n",
       "</div>"
      ],
      "text/plain": [
       "            Cement  Blast Furnace Slag      Fly Ash        Water  \\\n",
       "count  1030.000000         1030.000000  1030.000000  1030.000000   \n",
       "mean    281.167864           73.895825    54.188350   181.567282   \n",
       "std     104.506364           86.279342    63.997004    21.354219   \n",
       "min     102.000000            0.000000     0.000000   121.800000   \n",
       "25%     192.375000            0.000000     0.000000   164.900000   \n",
       "50%     272.900000           22.000000     0.000000   185.000000   \n",
       "75%     350.000000          142.950000   118.300000   192.000000   \n",
       "max     540.000000          359.400000   200.100000   247.000000   \n",
       "\n",
       "       Superplasticizer  Coarse Aggregate  Fine Aggregate          Age  \\\n",
       "count       1030.000000       1030.000000     1030.000000  1030.000000   \n",
       "mean           6.204660        972.918932      773.580485    45.662136   \n",
       "std            5.973841         77.753954       80.175980    63.169912   \n",
       "min            0.000000        801.000000      594.000000     1.000000   \n",
       "25%            0.000000        932.000000      730.950000     7.000000   \n",
       "50%            6.400000        968.000000      779.500000    28.000000   \n",
       "75%           10.200000       1029.400000      824.000000    56.000000   \n",
       "max           32.200000       1145.000000      992.600000   365.000000   \n",
       "\n",
       "          Strength  \n",
       "count  1030.000000  \n",
       "mean     35.817961  \n",
       "std      16.705742  \n",
       "min       2.330000  \n",
       "25%      23.710000  \n",
       "50%      34.445000  \n",
       "75%      46.135000  \n",
       "max      82.600000  "
      ]
     },
     "execution_count": 3,
     "metadata": {},
     "output_type": "execute_result"
    }
   ],
   "source": [
    "conc_df.describe()"
   ]
  },
  {
   "cell_type": "markdown",
   "id": "998d5bd5",
   "metadata": {},
   "source": [
    "## Length of the Data"
   ]
  },
  {
   "cell_type": "code",
   "execution_count": 4,
   "id": "21c85ff0",
   "metadata": {},
   "outputs": [
    {
     "data": {
      "text/plain": [
       "1030"
      ]
     },
     "execution_count": 4,
     "metadata": {},
     "output_type": "execute_result"
    }
   ],
   "source": [
    "conc_df.shape[0]"
   ]
  },
  {
   "cell_type": "markdown",
   "id": "7b49b9c9",
   "metadata": {},
   "source": [
    "## Information of Attributes"
   ]
  },
  {
   "cell_type": "code",
   "execution_count": 5,
   "id": "7d4349a9",
   "metadata": {},
   "outputs": [
    {
     "name": "stdout",
     "output_type": "stream",
     "text": [
      "<class 'pandas.core.frame.DataFrame'>\n",
      "RangeIndex: 1030 entries, 0 to 1029\n",
      "Data columns (total 9 columns):\n",
      " #   Column              Non-Null Count  Dtype  \n",
      "---  ------              --------------  -----  \n",
      " 0   Cement              1030 non-null   float64\n",
      " 1   Blast Furnace Slag  1030 non-null   float64\n",
      " 2   Fly Ash             1030 non-null   float64\n",
      " 3   Water               1030 non-null   float64\n",
      " 4   Superplasticizer    1030 non-null   float64\n",
      " 5   Coarse Aggregate    1030 non-null   float64\n",
      " 6   Fine Aggregate      1030 non-null   float64\n",
      " 7   Age                 1030 non-null   int64  \n",
      " 8   Strength            1030 non-null   float64\n",
      "dtypes: float64(8), int64(1)\n",
      "memory usage: 72.6 KB\n"
     ]
    }
   ],
   "source": [
    "conc_df.info()"
   ]
  },
  {
   "cell_type": "markdown",
   "id": "c9df1f1a",
   "metadata": {},
   "source": [
    "As we can see, there are no null values in any of the columns and all the columns have numerical data. Therfore no pre-processing is required."
   ]
  },
  {
   "cell_type": "markdown",
   "id": "282569b5",
   "metadata": {},
   "source": [
    "## Dividing Dataset into Features and Target"
   ]
  },
  {
   "cell_type": "code",
   "execution_count": 6,
   "id": "229815bf",
   "metadata": {},
   "outputs": [
    {
     "data": {
      "text/html": [
       "<div>\n",
       "<style scoped>\n",
       "    .dataframe tbody tr th:only-of-type {\n",
       "        vertical-align: middle;\n",
       "    }\n",
       "\n",
       "    .dataframe tbody tr th {\n",
       "        vertical-align: top;\n",
       "    }\n",
       "\n",
       "    .dataframe thead th {\n",
       "        text-align: right;\n",
       "    }\n",
       "</style>\n",
       "<table border=\"1\" class=\"dataframe\">\n",
       "  <thead>\n",
       "    <tr style=\"text-align: right;\">\n",
       "      <th></th>\n",
       "      <th>Cement</th>\n",
       "      <th>Blast Furnace Slag</th>\n",
       "      <th>Fly Ash</th>\n",
       "      <th>Water</th>\n",
       "      <th>Superplasticizer</th>\n",
       "      <th>Coarse Aggregate</th>\n",
       "      <th>Fine Aggregate</th>\n",
       "      <th>Age</th>\n",
       "    </tr>\n",
       "  </thead>\n",
       "  <tbody>\n",
       "    <tr>\n",
       "      <th>0</th>\n",
       "      <td>540.0</td>\n",
       "      <td>0.0</td>\n",
       "      <td>0.0</td>\n",
       "      <td>162.0</td>\n",
       "      <td>2.5</td>\n",
       "      <td>1040.0</td>\n",
       "      <td>676.0</td>\n",
       "      <td>28</td>\n",
       "    </tr>\n",
       "    <tr>\n",
       "      <th>1</th>\n",
       "      <td>540.0</td>\n",
       "      <td>0.0</td>\n",
       "      <td>0.0</td>\n",
       "      <td>162.0</td>\n",
       "      <td>2.5</td>\n",
       "      <td>1055.0</td>\n",
       "      <td>676.0</td>\n",
       "      <td>28</td>\n",
       "    </tr>\n",
       "    <tr>\n",
       "      <th>2</th>\n",
       "      <td>332.5</td>\n",
       "      <td>142.5</td>\n",
       "      <td>0.0</td>\n",
       "      <td>228.0</td>\n",
       "      <td>0.0</td>\n",
       "      <td>932.0</td>\n",
       "      <td>594.0</td>\n",
       "      <td>270</td>\n",
       "    </tr>\n",
       "    <tr>\n",
       "      <th>3</th>\n",
       "      <td>332.5</td>\n",
       "      <td>142.5</td>\n",
       "      <td>0.0</td>\n",
       "      <td>228.0</td>\n",
       "      <td>0.0</td>\n",
       "      <td>932.0</td>\n",
       "      <td>594.0</td>\n",
       "      <td>365</td>\n",
       "    </tr>\n",
       "    <tr>\n",
       "      <th>4</th>\n",
       "      <td>198.6</td>\n",
       "      <td>132.4</td>\n",
       "      <td>0.0</td>\n",
       "      <td>192.0</td>\n",
       "      <td>0.0</td>\n",
       "      <td>978.4</td>\n",
       "      <td>825.5</td>\n",
       "      <td>360</td>\n",
       "    </tr>\n",
       "  </tbody>\n",
       "</table>\n",
       "</div>"
      ],
      "text/plain": [
       "   Cement  Blast Furnace Slag  Fly Ash  Water  Superplasticizer  \\\n",
       "0   540.0                 0.0      0.0  162.0               2.5   \n",
       "1   540.0                 0.0      0.0  162.0               2.5   \n",
       "2   332.5               142.5      0.0  228.0               0.0   \n",
       "3   332.5               142.5      0.0  228.0               0.0   \n",
       "4   198.6               132.4      0.0  192.0               0.0   \n",
       "\n",
       "   Coarse Aggregate  Fine Aggregate  Age  \n",
       "0            1040.0           676.0   28  \n",
       "1            1055.0           676.0   28  \n",
       "2             932.0           594.0  270  \n",
       "3             932.0           594.0  365  \n",
       "4             978.4           825.5  360  "
      ]
     },
     "execution_count": 6,
     "metadata": {},
     "output_type": "execute_result"
    }
   ],
   "source": [
    "features = conc_df[conc_df.columns[conc_df.columns != \"Strength\"]]\n",
    "features.head()"
   ]
  },
  {
   "cell_type": "code",
   "execution_count": 7,
   "id": "86b3aee6",
   "metadata": {},
   "outputs": [
    {
     "data": {
      "text/plain": [
       "0    79.99\n",
       "1    61.89\n",
       "2    40.27\n",
       "3    41.05\n",
       "4    44.30\n",
       "Name: Strength, dtype: float64"
      ]
     },
     "execution_count": 7,
     "metadata": {},
     "output_type": "execute_result"
    }
   ],
   "source": [
    "target = conc_df[\"Strength\"]\n",
    "target.head()"
   ]
  },
  {
   "cell_type": "markdown",
   "id": "afbd698c",
   "metadata": {},
   "source": [
    "## Finding Mean Squared Error"
   ]
  },
  {
   "cell_type": "markdown",
   "id": "8c5ee2f8",
   "metadata": {},
   "source": [
    "### Splitting Dataset into Training and Testing Set"
   ]
  },
  {
   "cell_type": "code",
   "execution_count": 8,
   "id": "3fdfc735",
   "metadata": {},
   "outputs": [],
   "source": [
    "ft_trn, ft_tst, tar_trn, tar_tst = train_test_split(features, target, test_size = 0.3)"
   ]
  },
  {
   "cell_type": "markdown",
   "id": "b698cbd1",
   "metadata": {},
   "source": [
    "### Defining our model"
   ]
  },
  {
   "cell_type": "code",
   "execution_count": 9,
   "id": "0051c8ab",
   "metadata": {},
   "outputs": [],
   "source": [
    "def regr_mod_A():\n",
    "    model = Sequential([\n",
    "        Dense(10,activation=\"relu\",input_shape=features.columns.shape),\n",
    "        Dense(1)\n",
    "    ])\n",
    "    model.compile(optimizer=\"adam\",loss=\"mean_squared_error\")\n",
    "    return model"
   ]
  },
  {
   "cell_type": "markdown",
   "id": "98ff42a0",
   "metadata": {},
   "source": [
    "### Fitting our model"
   ]
  },
  {
   "cell_type": "code",
   "execution_count": 10,
   "id": "dc31f0cf",
   "metadata": {},
   "outputs": [
    {
     "name": "stdout",
     "output_type": "stream",
     "text": [
      "Epoch 1/50\n",
      "16/16 - 1s - loss: 56474.6836 - val_loss: 46191.2969 - 654ms/epoch - 41ms/step\n",
      "Epoch 2/50\n",
      "16/16 - 0s - loss: 37268.7656 - val_loss: 28703.3379 - 52ms/epoch - 3ms/step\n",
      "Epoch 3/50\n",
      "16/16 - 0s - loss: 21336.8906 - val_loss: 14733.6602 - 47ms/epoch - 3ms/step\n",
      "Epoch 4/50\n",
      "16/16 - 0s - loss: 9590.5791 - val_loss: 6251.2632 - 45ms/epoch - 3ms/step\n",
      "Epoch 5/50\n",
      "16/16 - 0s - loss: 4106.1875 - val_loss: 3603.7817 - 53ms/epoch - 3ms/step\n",
      "Epoch 6/50\n",
      "16/16 - 0s - loss: 2900.4131 - val_loss: 3311.6335 - 48ms/epoch - 3ms/step\n",
      "Epoch 7/50\n",
      "16/16 - 0s - loss: 2743.8425 - val_loss: 3109.3145 - 44ms/epoch - 3ms/step\n",
      "Epoch 8/50\n",
      "16/16 - 0s - loss: 2527.2410 - val_loss: 2911.4602 - 45ms/epoch - 3ms/step\n",
      "Epoch 9/50\n",
      "16/16 - 0s - loss: 2377.0562 - val_loss: 2742.7209 - 46ms/epoch - 3ms/step\n",
      "Epoch 10/50\n",
      "16/16 - 0s - loss: 2231.4153 - val_loss: 2575.8481 - 46ms/epoch - 3ms/step\n",
      "Epoch 11/50\n",
      "16/16 - 0s - loss: 2100.6453 - val_loss: 2425.6526 - 48ms/epoch - 3ms/step\n",
      "Epoch 12/50\n",
      "16/16 - 0s - loss: 1977.9147 - val_loss: 2284.3564 - 46ms/epoch - 3ms/step\n",
      "Epoch 13/50\n",
      "16/16 - 0s - loss: 1863.7552 - val_loss: 2154.0437 - 46ms/epoch - 3ms/step\n",
      "Epoch 14/50\n",
      "16/16 - 0s - loss: 1758.9170 - val_loss: 2026.5762 - 58ms/epoch - 4ms/step\n",
      "Epoch 15/50\n",
      "16/16 - 0s - loss: 1651.4092 - val_loss: 1902.1346 - 55ms/epoch - 3ms/step\n",
      "Epoch 16/50\n",
      "16/16 - 0s - loss: 1547.2289 - val_loss: 1774.1401 - 53ms/epoch - 3ms/step\n",
      "Epoch 17/50\n",
      "16/16 - 0s - loss: 1444.1952 - val_loss: 1654.1982 - 45ms/epoch - 3ms/step\n",
      "Epoch 18/50\n",
      "16/16 - 0s - loss: 1345.3804 - val_loss: 1521.9020 - 47ms/epoch - 3ms/step\n",
      "Epoch 19/50\n",
      "16/16 - 0s - loss: 1253.0905 - val_loss: 1379.5443 - 49ms/epoch - 3ms/step\n",
      "Epoch 20/50\n",
      "16/16 - 0s - loss: 1167.5612 - val_loss: 1278.7218 - 47ms/epoch - 3ms/step\n",
      "Epoch 21/50\n",
      "16/16 - 0s - loss: 1098.1476 - val_loss: 1171.9377 - 48ms/epoch - 3ms/step\n",
      "Epoch 22/50\n",
      "16/16 - 0s - loss: 1030.0243 - val_loss: 1085.8845 - 45ms/epoch - 3ms/step\n",
      "Epoch 23/50\n",
      "16/16 - 0s - loss: 970.4206 - val_loss: 1009.3080 - 47ms/epoch - 3ms/step\n",
      "Epoch 24/50\n",
      "16/16 - 0s - loss: 917.6816 - val_loss: 945.2435 - 44ms/epoch - 3ms/step\n",
      "Epoch 25/50\n",
      "16/16 - 0s - loss: 864.6437 - val_loss: 874.6214 - 40ms/epoch - 3ms/step\n",
      "Epoch 26/50\n",
      "16/16 - 0s - loss: 816.1626 - val_loss: 820.7992 - 40ms/epoch - 3ms/step\n",
      "Epoch 27/50\n",
      "16/16 - 0s - loss: 776.2286 - val_loss: 773.5695 - 41ms/epoch - 3ms/step\n",
      "Epoch 28/50\n",
      "16/16 - 0s - loss: 729.6735 - val_loss: 717.4602 - 40ms/epoch - 3ms/step\n",
      "Epoch 29/50\n",
      "16/16 - 0s - loss: 694.6615 - val_loss: 671.3643 - 41ms/epoch - 3ms/step\n",
      "Epoch 30/50\n",
      "16/16 - 0s - loss: 658.4312 - val_loss: 634.3057 - 39ms/epoch - 2ms/step\n",
      "Epoch 31/50\n",
      "16/16 - 0s - loss: 624.9898 - val_loss: 596.4642 - 42ms/epoch - 3ms/step\n",
      "Epoch 32/50\n",
      "16/16 - 0s - loss: 592.1745 - val_loss: 563.5530 - 41ms/epoch - 3ms/step\n",
      "Epoch 33/50\n",
      "16/16 - 0s - loss: 552.9802 - val_loss: 530.3295 - 40ms/epoch - 3ms/step\n",
      "Epoch 34/50\n",
      "16/16 - 0s - loss: 519.2271 - val_loss: 506.5102 - 41ms/epoch - 3ms/step\n",
      "Epoch 35/50\n",
      "16/16 - 0s - loss: 488.0829 - val_loss: 482.2760 - 39ms/epoch - 2ms/step\n",
      "Epoch 36/50\n",
      "16/16 - 0s - loss: 455.3054 - val_loss: 456.8023 - 43ms/epoch - 3ms/step\n",
      "Epoch 37/50\n",
      "16/16 - 0s - loss: 422.1876 - val_loss: 428.1056 - 38ms/epoch - 2ms/step\n",
      "Epoch 38/50\n",
      "16/16 - 0s - loss: 386.7307 - val_loss: 388.7026 - 40ms/epoch - 2ms/step\n",
      "Epoch 39/50\n",
      "16/16 - 0s - loss: 339.1494 - val_loss: 346.8084 - 42ms/epoch - 3ms/step\n",
      "Epoch 40/50\n",
      "16/16 - 0s - loss: 298.1165 - val_loss: 303.2803 - 43ms/epoch - 3ms/step\n",
      "Epoch 41/50\n",
      "16/16 - 0s - loss: 274.4300 - val_loss: 283.9601 - 42ms/epoch - 3ms/step\n",
      "Epoch 42/50\n",
      "16/16 - 0s - loss: 258.5485 - val_loss: 265.1302 - 42ms/epoch - 3ms/step\n",
      "Epoch 43/50\n",
      "16/16 - 0s - loss: 249.7641 - val_loss: 256.2511 - 42ms/epoch - 3ms/step\n",
      "Epoch 44/50\n",
      "16/16 - 0s - loss: 240.1907 - val_loss: 241.5773 - 41ms/epoch - 3ms/step\n",
      "Epoch 45/50\n",
      "16/16 - 0s - loss: 231.5519 - val_loss: 233.5999 - 40ms/epoch - 3ms/step\n",
      "Epoch 46/50\n",
      "16/16 - 0s - loss: 224.2039 - val_loss: 223.4202 - 44ms/epoch - 3ms/step\n",
      "Epoch 47/50\n",
      "16/16 - 0s - loss: 219.7202 - val_loss: 218.5689 - 40ms/epoch - 3ms/step\n",
      "Epoch 48/50\n",
      "16/16 - 0s - loss: 214.3914 - val_loss: 210.4852 - 41ms/epoch - 3ms/step\n",
      "Epoch 49/50\n",
      "16/16 - 0s - loss: 212.8018 - val_loss: 211.4354 - 40ms/epoch - 2ms/step\n",
      "Epoch 50/50\n",
      "16/16 - 0s - loss: 206.9313 - val_loss: 203.7432 - 44ms/epoch - 3ms/step\n"
     ]
    },
    {
     "data": {
      "text/plain": [
       "<keras.src.callbacks.History at 0x27d20ff0090>"
      ]
     },
     "execution_count": 10,
     "metadata": {},
     "output_type": "execute_result"
    }
   ],
   "source": [
    "model = regr_mod_A()\n",
    "model.fit(ft_trn, tar_trn, epochs=50, validation_split=0.3, verbose=2)"
   ]
  },
  {
   "cell_type": "markdown",
   "id": "20bae54d",
   "metadata": {},
   "source": [
    "### Predictions on Testing Set"
   ]
  },
  {
   "cell_type": "code",
   "execution_count": 11,
   "id": "4424a3fd",
   "metadata": {},
   "outputs": [
    {
     "name": "stdout",
     "output_type": "stream",
     "text": [
      "10/10 [==============================] - 0s 1ms/step\n"
     ]
    }
   ],
   "source": [
    "pred_tst = model.predict(ft_tst)"
   ]
  },
  {
   "cell_type": "markdown",
   "id": "7984dad0",
   "metadata": {},
   "source": [
    "### Mean Squared Error"
   ]
  },
  {
   "cell_type": "code",
   "execution_count": 12,
   "id": "44236a22",
   "metadata": {},
   "outputs": [
    {
     "name": "stdout",
     "output_type": "stream",
     "text": [
      "211.413911794534\n"
     ]
    }
   ],
   "source": [
    "print(mean_squared_error(pred_tst, tar_tst))"
   ]
  },
  {
   "cell_type": "markdown",
   "id": "7fa99d1d",
   "metadata": {},
   "source": [
    "## Creating a function for doing the above operations 50 times and store the MSE's in a list"
   ]
  },
  {
   "cell_type": "code",
   "execution_count": 13,
   "id": "c7103b9b",
   "metadata": {},
   "outputs": [],
   "source": [
    "def regr_list(feat, regr_mod, epch):\n",
    "    \n",
    "    mean_list = []\n",
    "\n",
    "    for i in tqdm(range(50)):\n",
    "        ft_trn, ft_tst, tar_trn, tar_tst = train_test_split(feat, target, test_size = 0.3)\n",
    "        model = regr_mod\n",
    "        model.fit(ft_trn, tar_trn, epochs=epch, validation_split=0.3, verbose=0)\n",
    "        pred_tst = model.predict(ft_tst, verbose=0)\n",
    "        mean_list.append(mean_squared_error(pred_tst, tar_tst))\n",
    "        \n",
    "    return mean_list"
   ]
  },
  {
   "cell_type": "markdown",
   "id": "a44f7731",
   "metadata": {},
   "source": [
    "## Part A : Printing Mean and Standard Deviations of MSE's obtained"
   ]
  },
  {
   "cell_type": "code",
   "execution_count": 14,
   "id": "af36dc5a",
   "metadata": {},
   "outputs": [
    {
     "name": "stderr",
     "output_type": "stream",
     "text": [
      "100%|██████████| 50/50 [01:52<00:00,  2.26s/it]"
     ]
    },
    {
     "name": "stdout",
     "output_type": "stream",
     "text": [
      "Mean               :  195.06590436161738\n",
      "Standard Deviation :  567.0285797871568\n"
     ]
    },
    {
     "name": "stderr",
     "output_type": "stream",
     "text": [
      "\n"
     ]
    }
   ],
   "source": [
    "mean_list_A = regr_list(features, regr_mod_A(), 50)\n",
    "print(\"Mean               : \",mean(mean_list_A))\n",
    "print(\"Standard Deviation : \",stdev(mean_list_A))"
   ]
  },
  {
   "cell_type": "markdown",
   "id": "3a5fd31a",
   "metadata": {},
   "source": [
    "## Part B : Perform Part A but with Normalized Values"
   ]
  },
  {
   "cell_type": "code",
   "execution_count": 15,
   "id": "9be965a9",
   "metadata": {},
   "outputs": [
    {
     "data": {
      "text/html": [
       "<div>\n",
       "<style scoped>\n",
       "    .dataframe tbody tr th:only-of-type {\n",
       "        vertical-align: middle;\n",
       "    }\n",
       "\n",
       "    .dataframe tbody tr th {\n",
       "        vertical-align: top;\n",
       "    }\n",
       "\n",
       "    .dataframe thead th {\n",
       "        text-align: right;\n",
       "    }\n",
       "</style>\n",
       "<table border=\"1\" class=\"dataframe\">\n",
       "  <thead>\n",
       "    <tr style=\"text-align: right;\">\n",
       "      <th></th>\n",
       "      <th>Cement</th>\n",
       "      <th>Blast Furnace Slag</th>\n",
       "      <th>Fly Ash</th>\n",
       "      <th>Water</th>\n",
       "      <th>Superplasticizer</th>\n",
       "      <th>Coarse Aggregate</th>\n",
       "      <th>Fine Aggregate</th>\n",
       "      <th>Age</th>\n",
       "    </tr>\n",
       "  </thead>\n",
       "  <tbody>\n",
       "    <tr>\n",
       "      <th>0</th>\n",
       "      <td>2.476712</td>\n",
       "      <td>-0.856472</td>\n",
       "      <td>-0.846733</td>\n",
       "      <td>-0.916319</td>\n",
       "      <td>-0.620147</td>\n",
       "      <td>0.862735</td>\n",
       "      <td>-1.217079</td>\n",
       "      <td>-0.279597</td>\n",
       "    </tr>\n",
       "    <tr>\n",
       "      <th>1</th>\n",
       "      <td>2.476712</td>\n",
       "      <td>-0.856472</td>\n",
       "      <td>-0.846733</td>\n",
       "      <td>-0.916319</td>\n",
       "      <td>-0.620147</td>\n",
       "      <td>1.055651</td>\n",
       "      <td>-1.217079</td>\n",
       "      <td>-0.279597</td>\n",
       "    </tr>\n",
       "    <tr>\n",
       "      <th>2</th>\n",
       "      <td>0.491187</td>\n",
       "      <td>0.795140</td>\n",
       "      <td>-0.846733</td>\n",
       "      <td>2.174405</td>\n",
       "      <td>-1.038638</td>\n",
       "      <td>-0.526262</td>\n",
       "      <td>-2.239829</td>\n",
       "      <td>3.551340</td>\n",
       "    </tr>\n",
       "    <tr>\n",
       "      <th>3</th>\n",
       "      <td>0.491187</td>\n",
       "      <td>0.795140</td>\n",
       "      <td>-0.846733</td>\n",
       "      <td>2.174405</td>\n",
       "      <td>-1.038638</td>\n",
       "      <td>-0.526262</td>\n",
       "      <td>-2.239829</td>\n",
       "      <td>5.055221</td>\n",
       "    </tr>\n",
       "    <tr>\n",
       "      <th>4</th>\n",
       "      <td>-0.790075</td>\n",
       "      <td>0.678079</td>\n",
       "      <td>-0.846733</td>\n",
       "      <td>0.488555</td>\n",
       "      <td>-1.038638</td>\n",
       "      <td>0.070492</td>\n",
       "      <td>0.647569</td>\n",
       "      <td>4.976069</td>\n",
       "    </tr>\n",
       "  </tbody>\n",
       "</table>\n",
       "</div>"
      ],
      "text/plain": [
       "     Cement  Blast Furnace Slag   Fly Ash     Water  Superplasticizer  \\\n",
       "0  2.476712           -0.856472 -0.846733 -0.916319         -0.620147   \n",
       "1  2.476712           -0.856472 -0.846733 -0.916319         -0.620147   \n",
       "2  0.491187            0.795140 -0.846733  2.174405         -1.038638   \n",
       "3  0.491187            0.795140 -0.846733  2.174405         -1.038638   \n",
       "4 -0.790075            0.678079 -0.846733  0.488555         -1.038638   \n",
       "\n",
       "   Coarse Aggregate  Fine Aggregate       Age  \n",
       "0          0.862735       -1.217079 -0.279597  \n",
       "1          1.055651       -1.217079 -0.279597  \n",
       "2         -0.526262       -2.239829  3.551340  \n",
       "3         -0.526262       -2.239829  5.055221  \n",
       "4          0.070492        0.647569  4.976069  "
      ]
     },
     "execution_count": 15,
     "metadata": {},
     "output_type": "execute_result"
    }
   ],
   "source": [
    "norm_feat = (features - features.mean())/features.std()\n",
    "norm_feat.head()"
   ]
  },
  {
   "cell_type": "code",
   "execution_count": 16,
   "id": "e3e065f7",
   "metadata": {},
   "outputs": [
    {
     "name": "stderr",
     "output_type": "stream",
     "text": [
      "100%|██████████| 50/50 [01:52<00:00,  2.24s/it]"
     ]
    },
    {
     "name": "stdout",
     "output_type": "stream",
     "text": [
      "Mean               :  116.62958031697414\n",
      "Standard Deviation :  54.677999477565805\n"
     ]
    },
    {
     "name": "stderr",
     "output_type": "stream",
     "text": [
      "\n"
     ]
    }
   ],
   "source": [
    "mean_list_B = regr_list(norm_feat, regr_mod_A(), 50)\n",
    "print(\"Mean               : \",mean(mean_list_B))\n",
    "print(\"Standard Deviation : \",stdev(mean_list_B))"
   ]
  },
  {
   "cell_type": "markdown",
   "id": "82b35b3c",
   "metadata": {},
   "source": [
    "## Part C : Perform Part B but with 100 epochs"
   ]
  },
  {
   "cell_type": "code",
   "execution_count": 17,
   "id": "b913a612",
   "metadata": {},
   "outputs": [
    {
     "name": "stderr",
     "output_type": "stream",
     "text": [
      "100%|██████████| 50/50 [03:36<00:00,  4.33s/it]"
     ]
    },
    {
     "name": "stdout",
     "output_type": "stream",
     "text": [
      "Mean               :  42.961765313659576\n",
      "Standard Deviation :  56.77395100283535\n"
     ]
    },
    {
     "name": "stderr",
     "output_type": "stream",
     "text": [
      "\n"
     ]
    }
   ],
   "source": [
    "mean_list_C = regr_list(norm_feat, regr_mod_A(), 100)\n",
    "print(\"Mean               : \",mean(mean_list_C))\n",
    "print(\"Standard Deviation : \",stdev(mean_list_C))"
   ]
  },
  {
   "cell_type": "markdown",
   "id": "b38e812f",
   "metadata": {},
   "source": [
    "## Part D : Perform Part B but with 3 hidden layers each with 10 nodes and ReLU activation"
   ]
  },
  {
   "cell_type": "code",
   "execution_count": 18,
   "id": "3f4e84c9",
   "metadata": {},
   "outputs": [],
   "source": [
    "def regr_mod_D():\n",
    "    model = Sequential([\n",
    "        Dense(10,activation=\"relu\",input_shape=features.columns.shape),\n",
    "        Dense(10,activation=\"relu\"),\n",
    "        Dense(10,activation=\"relu\"),\n",
    "        Dense(1)\n",
    "    ])\n",
    "    model.compile(optimizer=\"adam\",loss=\"mean_squared_error\")\n",
    "    return model"
   ]
  },
  {
   "cell_type": "code",
   "execution_count": 19,
   "id": "0747a6d4",
   "metadata": {},
   "outputs": [
    {
     "name": "stderr",
     "output_type": "stream",
     "text": [
      "100%|██████████| 50/50 [01:55<00:00,  2.30s/it]"
     ]
    },
    {
     "name": "stdout",
     "output_type": "stream",
     "text": [
      "Mean               :  36.30030846236525\n",
      "Standard Deviation :  23.721144744868408\n"
     ]
    },
    {
     "name": "stderr",
     "output_type": "stream",
     "text": [
      "\n"
     ]
    }
   ],
   "source": [
    "mean_list_D = regr_list(norm_feat, regr_mod_D(), 50)\n",
    "print(\"Mean               : \",mean(mean_list_D))\n",
    "print(\"Standard Deviation : \",stdev(mean_list_D))"
   ]
  },
  {
   "cell_type": "markdown",
   "id": "cb751936",
   "metadata": {},
   "source": [
    "## Conclusion"
   ]
  },
  {
   "cell_type": "markdown",
   "id": "cf448219",
   "metadata": {},
   "source": [
    "|                    | A      | B      | C     | D     |\n",
    "|--------------------|--------|--------|-------|-------|\n",
    "| Mean               | 195.06 | 116.63 | 42.96 | 36.30 |\n",
    "| Standard Deviation | 567.03 | 54.68  | 56.77 | 23.72 |\n",
    "\n",
    "- Mean is reduced in B as compared to A\n",
    "- Mean is significantly reduced in C as compared to B\n",
    "- Mean is significantly reduced in D as compared to B\n",
    "\n",
    "Therfore, normalizing the data reduces errors and increasing the epochs or the hidden layers reduces the errors even more."
   ]
  }
 ],
 "metadata": {
  "kernelspec": {
   "display_name": "Python 3 (ipykernel)",
   "language": "python",
   "name": "python3"
  },
  "language_info": {
   "codemirror_mode": {
    "name": "ipython",
    "version": 3
   },
   "file_extension": ".py",
   "mimetype": "text/x-python",
   "name": "python",
   "nbconvert_exporter": "python",
   "pygments_lexer": "ipython3",
   "version": "3.11.4"
  }
 },
 "nbformat": 4,
 "nbformat_minor": 5
}
